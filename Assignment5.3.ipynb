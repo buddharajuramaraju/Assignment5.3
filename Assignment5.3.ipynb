{
 "cells": [
  {
   "cell_type": "markdown",
   "metadata": {},
   "source": [
    "### Problem Statement\n",
    "\n",
    "Problem Statement 1:\n",
    "Calculate F Test for given 10, 20, 30, 40, 50 and 5,10,15, 20, 25.\n",
    "For 10, 20, 30, 40, 50:"
   ]
  },
  {
   "cell_type": "code",
   "execution_count": 3,
   "metadata": {
    "collapsed": true
   },
   "outputs": [],
   "source": [
    "import math"
   ]
  },
  {
   "cell_type": "code",
   "execution_count": 4,
   "metadata": {
    "collapsed": true
   },
   "outputs": [],
   "source": [
    "LIST1 = [10, 20, 30, 40, 50]\n",
    "LIST2 = [5,10,15, 20, 25]"
   ]
  },
  {
   "cell_type": "markdown",
   "metadata": {},
   "source": [
    "### F_Test_Value = Variance Of LIST1/Variance of LIST2"
   ]
  },
  {
   "cell_type": "code",
   "execution_count": 16,
   "metadata": {},
   "outputs": [],
   "source": [
    "N1 = 5\n",
    "LIST1_MEAN = sum(LIST1)/N1\n",
    "SD_LIST1 = math.sqrt((math.pow(10-LIST1_MEAN,2)+math.pow(20-LIST1_MEAN,2)+math.pow(30-LIST1_MEAN,2)+math.pow(40-LIST1_MEAN,2)+math.pow(50-LIST1_MEAN,2))/(N1-1))\n",
    "VARIANCE_LIST1 = SD_LIST1**2"
   ]
  },
  {
   "cell_type": "code",
   "execution_count": 17,
   "metadata": {
    "collapsed": true
   },
   "outputs": [],
   "source": [
    "N2 = 5\n",
    "LIST2_MEAN = sum(LIST2)/N2\n",
    "SD_LIST2 = math.sqrt((math.pow(5-LIST2_MEAN,2)+math.pow(10-LIST2_MEAN,2)+math.pow(15-LIST2_MEAN,2)+math.pow(20-LIST2_MEAN,2)+math.pow(25-LIST2_MEAN,2))/(N2-1))\n",
    "VARIANCE_LIST2 = SD_LIST2**2"
   ]
  },
  {
   "cell_type": "code",
   "execution_count": 19,
   "metadata": {},
   "outputs": [
    {
     "name": "stdout",
     "output_type": "stream",
     "text": [
      "F Test value 4.0\n"
     ]
    }
   ],
   "source": [
    "print(\"F Test value {}\".format(VARIANCE_LIST1/VARIANCE_LIST2))"
   ]
  },
  {
   "cell_type": "code",
   "execution_count": null,
   "metadata": {
    "collapsed": true
   },
   "outputs": [],
   "source": []
  }
 ],
 "metadata": {
  "kernelspec": {
   "display_name": "Python 3",
   "language": "python",
   "name": "python3"
  },
  "language_info": {
   "codemirror_mode": {
    "name": "ipython",
    "version": 3
   },
   "file_extension": ".py",
   "mimetype": "text/x-python",
   "name": "python",
   "nbconvert_exporter": "python",
   "pygments_lexer": "ipython3",
   "version": "3.6.3"
  }
 },
 "nbformat": 4,
 "nbformat_minor": 2
}
